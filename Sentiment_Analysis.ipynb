{
 "cells": [
  {
   "cell_type": "code",
   "execution_count": 1,
   "metadata": {
    "colab": {
     "autoexec": {
      "startup": false,
      "wait_interval": 0
     },
     "base_uri": "https://localhost:8080/",
     "height": 34
    },
    "colab_type": "code",
    "executionInfo": {
     "elapsed": 2518,
     "status": "ok",
     "timestamp": 1533382905774,
     "user": {
      "displayName": "Annas BlackHat",
      "photoUrl": "//lh5.googleusercontent.com/-Xiam9nbUUXU/AAAAAAAAAAI/AAAAAAAAEug/XEtMpXJmMNw/s50-c-k-no/photo.jpg",
      "userId": "103494176274282118539"
     },
     "user_tz": -420
    },
    "id": "GcuxOpyppkU9",
    "outputId": "b5c73c9b-7c6f-4039-fbea-29261d190d49"
   },
   "outputs": [
    {
     "name": "stderr",
     "output_type": "stream",
     "text": [
      "/Library/Frameworks/Python.framework/Versions/3.6/lib/python3.6/site-packages/h5py/__init__.py:36: FutureWarning: Conversion of the second argument of issubdtype from `float` to `np.floating` is deprecated. In future, it will be treated as `np.float64 == np.dtype(float).type`.\n",
      "  from ._conv import register_converters as _register_converters\n",
      "Using TensorFlow backend.\n"
     ]
    }
   ],
   "source": [
    "%matplotlib inline\n",
    "import matplotlib\n",
    "import matplotlib.pyplot as plt\n",
    "import numpy as np\n",
    "from keras.utils import to_categorical\n",
    "from keras import models\n",
    "from keras import layers\n",
    "from keras.models import Sequential"
   ]
  },
  {
   "cell_type": "code",
   "execution_count": 2,
   "metadata": {
    "colab": {
     "autoexec": {
      "startup": false,
      "wait_interval": 0
     },
     "base_uri": "https://localhost:8080/",
     "height": 51
    },
    "colab_type": "code",
    "executionInfo": {
     "elapsed": 8986,
     "status": "ok",
     "timestamp": 1533382914903,
     "user": {
      "displayName": "Annas BlackHat",
      "photoUrl": "//lh5.googleusercontent.com/-Xiam9nbUUXU/AAAAAAAAAAI/AAAAAAAAEug/XEtMpXJmMNw/s50-c-k-no/photo.jpg",
      "userId": "103494176274282118539"
     },
     "user_tz": -420
    },
    "id": "jB5597SjsYw0",
    "outputId": "41f4274e-57e4-4ed9-a10e-3c646d30cb5b"
   },
   "outputs": [
    {
     "name": "stdout",
     "output_type": "stream",
     "text": [
      "Downloading data from https://s3.amazonaws.com/text-datasets/imdb.npz\n",
      "17465344/17464789 [==============================] - 40s 2us/step\n"
     ]
    }
   ],
   "source": [
    "from keras.datasets import imdb\n",
    "(training_data, training_targets), (testing_data, testing_targets) = imdb.load_data(num_words=1000)"
   ]
  },
  {
   "cell_type": "code",
   "execution_count": 3,
   "metadata": {
    "colab": {
     "autoexec": {
      "startup": false,
      "wait_interval": 0
     }
    },
    "colab_type": "code",
    "id": "hw3VcnmwtEdQ"
   },
   "outputs": [],
   "source": [
    "data = np.concatenate((training_data, testing_data), axis=0)\n",
    "targets = np.concatenate((training_targets, testing_targets), axis=0)"
   ]
  },
  {
   "cell_type": "markdown",
   "metadata": {
    "colab_type": "text",
    "id": "b2912QXLt_ke"
   },
   "source": [
    "**Exploring the Data**"
   ]
  },
  {
   "cell_type": "code",
   "execution_count": 4,
   "metadata": {
    "colab": {
     "autoexec": {
      "startup": false,
      "wait_interval": 0
     },
     "base_uri": "https://localhost:8080/",
     "height": 51
    },
    "colab_type": "code",
    "executionInfo": {
     "elapsed": 2981,
     "status": "ok",
     "timestamp": 1533382919014,
     "user": {
      "displayName": "Annas BlackHat",
      "photoUrl": "//lh5.googleusercontent.com/-Xiam9nbUUXU/AAAAAAAAAAI/AAAAAAAAEug/XEtMpXJmMNw/s50-c-k-no/photo.jpg",
      "userId": "103494176274282118539"
     },
     "user_tz": -420
    },
    "id": "nMYtQiZatpG1",
    "outputId": "f667d70f-3acb-467d-f619-b67a1821a357"
   },
   "outputs": [
    {
     "name": "stdout",
     "output_type": "stream",
     "text": [
      "Categories :  [0 1]\n",
      "Number of unique words :  998\n"
     ]
    }
   ],
   "source": [
    "print('Categories : ', np.unique(targets))\n",
    "print('Number of unique words : ', len(np.unique(np.hstack(data))))"
   ]
  },
  {
   "cell_type": "code",
   "execution_count": 5,
   "metadata": {
    "colab": {
     "autoexec": {
      "startup": false,
      "wait_interval": 0
     },
     "base_uri": "https://localhost:8080/",
     "height": 51
    },
    "colab_type": "code",
    "executionInfo": {
     "elapsed": 938,
     "status": "ok",
     "timestamp": 1533382919989,
     "user": {
      "displayName": "Annas BlackHat",
      "photoUrl": "//lh5.googleusercontent.com/-Xiam9nbUUXU/AAAAAAAAAAI/AAAAAAAAEug/XEtMpXJmMNw/s50-c-k-no/photo.jpg",
      "userId": "103494176274282118539"
     },
     "user_tz": -420
    },
    "id": "JDfHJCKOukFP",
    "outputId": "16f0992c-5589-4614-a53d-543d3d7cd5f8"
   },
   "outputs": [
    {
     "name": "stdout",
     "output_type": "stream",
     "text": [
      "Average review length :  234.75892\n",
      "Standard deviation :  173.0\n"
     ]
    }
   ],
   "source": [
    "length = [len(i) for i in data]\n",
    "print('Average review length : ', np.mean(length))\n",
    "print('Standard deviation : ', round(np.std(length)))"
   ]
  },
  {
   "cell_type": "code",
   "execution_count": 6,
   "metadata": {
    "colab": {
     "autoexec": {
      "startup": false,
      "wait_interval": 0
     },
     "base_uri": "https://localhost:8080/",
     "height": 34
    },
    "colab_type": "code",
    "executionInfo": {
     "elapsed": 742,
     "status": "ok",
     "timestamp": 1533382920983,
     "user": {
      "displayName": "Annas BlackHat",
      "photoUrl": "//lh5.googleusercontent.com/-Xiam9nbUUXU/AAAAAAAAAAI/AAAAAAAAEug/XEtMpXJmMNw/s50-c-k-no/photo.jpg",
      "userId": "103494176274282118539"
     },
     "user_tz": -420
    },
    "id": "fxjt4fBKvA-j",
    "outputId": "d68408f1-3ff5-4d8d-a05b-e57ffa284d2a"
   },
   "outputs": [
    {
     "name": "stdout",
     "output_type": "stream",
     "text": [
      "Label :  1\n"
     ]
    }
   ],
   "source": [
    "print('Label : ', targets[0])"
   ]
  },
  {
   "cell_type": "code",
   "execution_count": 7,
   "metadata": {
    "colab": {
     "autoexec": {
      "startup": false,
      "wait_interval": 0
     },
     "base_uri": "https://localhost:8080/",
     "height": 54
    },
    "colab_type": "code",
    "executionInfo": {
     "elapsed": 782,
     "status": "ok",
     "timestamp": 1533382921953,
     "user": {
      "displayName": "Annas BlackHat",
      "photoUrl": "//lh5.googleusercontent.com/-Xiam9nbUUXU/AAAAAAAAAAI/AAAAAAAAEug/XEtMpXJmMNw/s50-c-k-no/photo.jpg",
      "userId": "103494176274282118539"
     },
     "user_tz": -420
    },
    "id": "jAleZtlL8D-5",
    "outputId": "6d7d921f-09d2-4ab4-b989-e7b6dba20f1c"
   },
   "outputs": [
    {
     "name": "stdout",
     "output_type": "stream",
     "text": [
      "[1, 14, 22, 16, 43, 530, 973, 2, 2, 65, 458, 2, 66, 2, 4, 173, 36, 256, 5, 25, 100, 43, 838, 112, 50, 670, 2, 9, 35, 480, 284, 5, 150, 4, 172, 112, 167, 2, 336, 385, 39, 4, 172, 2, 2, 17, 546, 38, 13, 447, 4, 192, 50, 16, 6, 147, 2, 19, 14, 22, 4, 2, 2, 469, 4, 22, 71, 87, 12, 16, 43, 530, 38, 76, 15, 13, 2, 4, 22, 17, 515, 17, 12, 16, 626, 18, 2, 5, 62, 386, 12, 8, 316, 8, 106, 5, 4, 2, 2, 16, 480, 66, 2, 33, 4, 130, 12, 16, 38, 619, 5, 25, 124, 51, 36, 135, 48, 25, 2, 33, 6, 22, 12, 215, 28, 77, 52, 5, 14, 407, 16, 82, 2, 8, 4, 107, 117, 2, 15, 256, 4, 2, 7, 2, 5, 723, 36, 71, 43, 530, 476, 26, 400, 317, 46, 7, 4, 2, 2, 13, 104, 88, 4, 381, 15, 297, 98, 32, 2, 56, 26, 141, 6, 194, 2, 18, 4, 226, 22, 21, 134, 476, 26, 480, 5, 144, 30, 2, 18, 51, 36, 28, 224, 92, 25, 104, 4, 226, 65, 16, 38, 2, 88, 12, 16, 283, 5, 16, 2, 113, 103, 32, 15, 16, 2, 19, 178, 32]\n"
     ]
    }
   ],
   "source": [
    "print(data[0])"
   ]
  },
  {
   "cell_type": "markdown",
   "metadata": {
    "colab_type": "text",
    "id": "w_vMzTkzCfsX"
   },
   "source": [
    "**Retrieves the dictionary mapping word indices back into the original words so that we can read them. It replaces every unknown word with a “#”**"
   ]
  },
  {
   "cell_type": "code",
   "execution_count": 8,
   "metadata": {
    "colab": {
     "autoexec": {
      "startup": false,
      "wait_interval": 0
     },
     "base_uri": "https://localhost:8080/",
     "height": 88
    },
    "colab_type": "code",
    "executionInfo": {
     "elapsed": 3047,
     "status": "ok",
     "timestamp": 1533382925145,
     "user": {
      "displayName": "Annas BlackHat",
      "photoUrl": "//lh5.googleusercontent.com/-Xiam9nbUUXU/AAAAAAAAAAI/AAAAAAAAEug/XEtMpXJmMNw/s50-c-k-no/photo.jpg",
      "userId": "103494176274282118539"
     },
     "user_tz": -420
    },
    "id": "Vi2BDizH8F30",
    "outputId": "cd9950e4-d82f-480c-a54e-c00a84bcc79d"
   },
   "outputs": [
    {
     "name": "stdout",
     "output_type": "stream",
     "text": [
      "Downloading data from https://s3.amazonaws.com/text-datasets/imdb_word_index.json\n",
      "1646592/1641221 [==============================] - 5s 3us/step\n",
      "# this film was just brilliant casting # # story direction # really # the part they played and you could just imagine being there robert # is an amazing actor and now the same being director # father came from the same # # as myself so i loved the fact there was a real # with this film the # # throughout the film were great it was just brilliant so much that i # the film as soon as it was released for # and would recommend it to everyone to watch and the # # was amazing really # at the end it was so sad and you know what they say if you # at a film it must have been good and this definitely was also # to the two little # that played the # of # and paul they were just brilliant children are often left out of the # # i think because the stars that play them all # up are such a big # for the whole film but these children are amazing and should be # for what they have done don't you think the whole story was so # because it was true and was # life after all that was # with us all\n"
     ]
    }
   ],
   "source": [
    "index = imdb.get_word_index()\n",
    "reverse_index = dict([(value, key) for (key, value) in index.items()])\n",
    "decoded = \" \".join( [reverse_index.get(i - 3, \"#\") for i in data[0]] )\n",
    "print(decoded)"
   ]
  },
  {
   "cell_type": "markdown",
   "metadata": {
    "colab_type": "text",
    "id": "W_0qFT4LFGQ-"
   },
   "source": [
    "### DATA PREPARATION"
   ]
  },
  {
   "cell_type": "code",
   "execution_count": 9,
   "metadata": {
    "colab": {
     "autoexec": {
      "startup": false,
      "wait_interval": 0
     }
    },
    "colab_type": "code",
    "id": "o2ZXIFlhCNFT"
   },
   "outputs": [],
   "source": [
    "def vectorize(sequences, dimension=10000):\n",
    "  results = np.zeros((len(sequences), dimension))\n",
    "  for i, sequence in enumerate(sequences):\n",
    "    results[i, sequence] = 1\n",
    "  return results"
   ]
  },
  {
   "cell_type": "code",
   "execution_count": 10,
   "metadata": {
    "colab": {
     "autoexec": {
      "startup": false,
      "wait_interval": 0
     }
    },
    "colab_type": "code",
    "id": "iV6ZMWN-Dm2q"
   },
   "outputs": [],
   "source": [
    "data = vectorize(data)\n",
    "targets = np.array(targets).astype(\"float32\")"
   ]
  },
  {
   "cell_type": "code",
   "execution_count": 11,
   "metadata": {
    "colab": {
     "autoexec": {
      "startup": false,
      "wait_interval": 0
     },
     "base_uri": "https://localhost:8080/",
     "height": 85
    },
    "colab_type": "code",
    "executionInfo": {
     "elapsed": 809,
     "status": "ok",
     "timestamp": 1533382932945,
     "user": {
      "displayName": "Annas BlackHat",
      "photoUrl": "//lh5.googleusercontent.com/-Xiam9nbUUXU/AAAAAAAAAAI/AAAAAAAAEug/XEtMpXJmMNw/s50-c-k-no/photo.jpg",
      "userId": "103494176274282118539"
     },
     "user_tz": -420
    },
    "id": "dxtoOY11D1M_",
    "outputId": "fefd0520-4522-4b96-dcdb-597630fed4ce"
   },
   "outputs": [
    {
     "name": "stdout",
     "output_type": "stream",
     "text": [
      "data size :  50000\n",
      "targets size :  50000\n",
      "test_x size :  10000 , test_y size :  10000\n",
      "train_x size :  40000 , train_y :  40000\n"
     ]
    }
   ],
   "source": [
    "test_x = data[:10000]\n",
    "test_y = targets[:10000]\n",
    "\n",
    "train_x = data[10000:]\n",
    "train_y = targets[10000:]\n",
    "\n",
    "print('data size : ', len(data))\n",
    "print('targets size : ', len(targets))\n",
    "print('test_x size : ', len(test_x), ', test_y size : ', len(test_y))\n",
    "print('train_x size : ', len(train_x), ', train_y : ', len(train_y))"
   ]
  },
  {
   "cell_type": "markdown",
   "metadata": {
    "colab_type": "text",
    "id": "-qxC9DgCHPAc"
   },
   "source": [
    "**Input - Layer**"
   ]
  },
  {
   "cell_type": "code",
   "execution_count": 12,
   "metadata": {
    "colab": {
     "autoexec": {
      "startup": false,
      "wait_interval": 0
     }
    },
    "colab_type": "code",
    "id": "MXcHfYR7Gqvf"
   },
   "outputs": [],
   "source": [
    "model = Sequential()\n",
    "model.add(layers.Dense(50, activation='relu', input_shape=(10000,)))"
   ]
  },
  {
   "cell_type": "markdown",
   "metadata": {
    "colab_type": "text",
    "id": "cV4w5mfFLi2k"
   },
   "source": [
    "**Hidden - Layer**"
   ]
  },
  {
   "cell_type": "code",
   "execution_count": 13,
   "metadata": {
    "colab": {
     "autoexec": {
      "startup": false,
      "wait_interval": 0
     }
    },
    "colab_type": "code",
    "id": "eF65F8iaHiD9"
   },
   "outputs": [],
   "source": [
    "model.add(layers.Dropout(0.3, noise_shape=None, seed=None))\n",
    "model.add(layers.Dense(50, activation='relu'))\n",
    "model.add(layers.Dropout(0.2, noise_shape=None, seed=None))\n",
    "model.add(layers.Dense(50, activation='relu'))"
   ]
  },
  {
   "cell_type": "markdown",
   "metadata": {
    "colab_type": "text",
    "id": "DIiyWvb-MEHl"
   },
   "source": [
    "**Output - Layer**"
   ]
  },
  {
   "cell_type": "code",
   "execution_count": 14,
   "metadata": {
    "colab": {
     "autoexec": {
      "startup": false,
      "wait_interval": 0
     }
    },
    "colab_type": "code",
    "id": "X6ezF-1eMC5F"
   },
   "outputs": [],
   "source": [
    "model.add(layers.Dense(1, activation='sigmoid'))"
   ]
  },
  {
   "cell_type": "code",
   "execution_count": 15,
   "metadata": {
    "colab": {
     "autoexec": {
      "startup": false,
      "wait_interval": 0
     },
     "base_uri": "https://localhost:8080/",
     "height": 340
    },
    "colab_type": "code",
    "executionInfo": {
     "elapsed": 844,
     "status": "ok",
     "timestamp": 1533382936959,
     "user": {
      "displayName": "Annas BlackHat",
      "photoUrl": "//lh5.googleusercontent.com/-Xiam9nbUUXU/AAAAAAAAAAI/AAAAAAAAEug/XEtMpXJmMNw/s50-c-k-no/photo.jpg",
      "userId": "103494176274282118539"
     },
     "user_tz": -420
    },
    "id": "akNYW3dyMOj1",
    "outputId": "80454de4-80b4-4048-a23b-e74df28e6501"
   },
   "outputs": [
    {
     "name": "stdout",
     "output_type": "stream",
     "text": [
      "_________________________________________________________________\n",
      "Layer (type)                 Output Shape              Param #   \n",
      "=================================================================\n",
      "dense_1 (Dense)              (None, 50)                500050    \n",
      "_________________________________________________________________\n",
      "dropout_1 (Dropout)          (None, 50)                0         \n",
      "_________________________________________________________________\n",
      "dense_2 (Dense)              (None, 50)                2550      \n",
      "_________________________________________________________________\n",
      "dropout_2 (Dropout)          (None, 50)                0         \n",
      "_________________________________________________________________\n",
      "dense_3 (Dense)              (None, 50)                2550      \n",
      "_________________________________________________________________\n",
      "dense_4 (Dense)              (None, 1)                 51        \n",
      "=================================================================\n",
      "Total params: 505,201\n",
      "Trainable params: 505,201\n",
      "Non-trainable params: 0\n",
      "_________________________________________________________________\n"
     ]
    }
   ],
   "source": [
    "model.summary()"
   ]
  },
  {
   "cell_type": "markdown",
   "metadata": {
    "colab_type": "text",
    "id": "H571AamoMkGm"
   },
   "source": [
    "### COMPILE MODEL\n",
    "We use the “adam” optimizer. The optimizer is the algorithm that changes the weights and biases during training. We also choose binary-crossentropy as loss (because we deal with binary classification) and accuracy as our evaluation metric."
   ]
  },
  {
   "cell_type": "code",
   "execution_count": 16,
   "metadata": {
    "colab": {
     "autoexec": {
      "startup": false,
      "wait_interval": 0
     }
    },
    "colab_type": "code",
    "id": "KAX3-iALMQNC"
   },
   "outputs": [],
   "source": [
    "model.compile(optimizer = 'adam',\n",
    "             loss = 'binary_crossentropy',\n",
    "             metrics = ['accuracy'])"
   ]
  },
  {
   "cell_type": "markdown",
   "metadata": {
    "colab_type": "text",
    "id": "a-p9EU1rNMlt"
   },
   "source": [
    "### TRAIN MODEL"
   ]
  },
  {
   "cell_type": "markdown",
   "metadata": {
    "colab_type": "text",
    "id": "2HDurCXvNgWq"
   },
   "source": [
    "We train our model with a batch_size of 500 and only for two epochs because the model become overfits if we train it longer. The Batch size defines the number of samples that will be propagated through the network and an epoch is an iteration over the entire training data"
   ]
  },
  {
   "cell_type": "code",
   "execution_count": 17,
   "metadata": {
    "colab": {
     "autoexec": {
      "startup": false,
      "wait_interval": 0
     },
     "base_uri": "https://localhost:8080/",
     "height": 102
    },
    "colab_type": "code",
    "executionInfo": {
     "elapsed": 12968,
     "status": "ok",
     "timestamp": 1533382951033,
     "user": {
      "displayName": "Annas BlackHat",
      "photoUrl": "//lh5.googleusercontent.com/-Xiam9nbUUXU/AAAAAAAAAAI/AAAAAAAAEug/XEtMpXJmMNw/s50-c-k-no/photo.jpg",
      "userId": "103494176274282118539"
     },
     "user_tz": -420
    },
    "id": "sWkv-UBfM75M",
    "outputId": "52490dce-cb66-40a9-f1ae-4b8241c5db70"
   },
   "outputs": [
    {
     "name": "stdout",
     "output_type": "stream",
     "text": [
      "Train on 40000 samples, validate on 10000 samples\n",
      "Epoch 1/2\n",
      "40000/40000 [==============================] - 11s 286us/step - loss: 0.4541 - acc: 0.7904 - val_loss: 0.3258 - val_acc: 0.8626\n",
      "Epoch 2/2\n",
      "40000/40000 [==============================] - 10s 255us/step - loss: 0.3183 - acc: 0.8650 - val_loss: 0.3164 - val_acc: 0.8666\n"
     ]
    }
   ],
   "source": [
    "results = model.fit(train_x, train_y,\n",
    "                   epochs = 2,\n",
    "                   batch_size = 500,\n",
    "                   validation_data = (test_x, test_y))"
   ]
  },
  {
   "cell_type": "code",
   "execution_count": 19,
   "metadata": {
    "colab": {
     "autoexec": {
      "startup": false,
      "wait_interval": 0
     }
    },
    "colab_type": "code",
    "id": "diYJ9V7JvZv9"
   },
   "outputs": [],
   "source": [
    "model.save('imdb_analytic_weight.h5')"
   ]
  }
 ],
 "metadata": {
  "colab": {
   "default_view": {},
   "name": "Sentiment Analysis.ipynb",
   "provenance": [],
   "version": "0.3.2",
   "views": {}
  },
  "kernelspec": {
   "display_name": "Python 3",
   "language": "python",
   "name": "python3"
  },
  "language_info": {
   "codemirror_mode": {
    "name": "ipython",
    "version": 3
   },
   "file_extension": ".py",
   "mimetype": "text/x-python",
   "name": "python",
   "nbconvert_exporter": "python",
   "pygments_lexer": "ipython3",
   "version": "3.6.4"
  }
 },
 "nbformat": 4,
 "nbformat_minor": 1
}
